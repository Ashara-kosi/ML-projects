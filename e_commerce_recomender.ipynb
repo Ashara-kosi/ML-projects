{
  "nbformat": 4,
  "nbformat_minor": 0,
  "metadata": {
    "kernelspec": {
      "display_name": "Python 3",
      "language": "python",
      "name": "python3"
    },
    "language_info": {
      "codemirror_mode": {
        "name": "ipython",
        "version": 3
      },
      "file_extension": ".py",
      "mimetype": "text/x-python",
      "name": "python",
      "nbconvert_exporter": "python",
      "pygments_lexer": "ipython3",
      "version": "3.8.5"
    },
    "colab": {
      "name": "e-commerce recomender.ipynb",
      "provenance": [],
      "include_colab_link": true
    }
  },
  "cells": [
    {
      "cell_type": "markdown",
      "metadata": {
        "id": "view-in-github",
        "colab_type": "text"
      },
      "source": [
        "<a href=\"https://colab.research.google.com/github/Ashara-kosi/ML-projects/blob/main/e_commerce_recomender.ipynb\" target=\"_parent\"><img src=\"https://colab.research.google.com/assets/colab-badge.svg\" alt=\"Open In Colab\"/></a>"
      ]
    },
    {
      "cell_type": "code",
      "metadata": {
        "id": "_RrhNO-NBddy"
      },
      "source": [
        "#importing libraries required\n",
        "import numpy as np\n",
        "import pandas as pd\n",
        "import matplotlib.pyplot as plt\n",
        "import seaborn as sns\n",
        "%matplotlib inline"
      ],
      "execution_count": 1,
      "outputs": []
    },
    {
      "cell_type": "code",
      "metadata": {
        "id": "wZVFdQxMBdd9"
      },
      "source": [
        "#loading the datasets\n",
        "category = pd.read_csv('karma_table_category.csv',delimiter=\";\")\n",
        "table_order = pd.read_csv('karma_table_order.csv',delimiter=\";\")\n",
        "order_item = pd.read_csv('karma_table_order_item.csv',delimiter=\";\")\n",
        "product_table = pd.read_csv('karma_table_product.csv',delimiter=\";\")\n",
        "user_table = pd.read_csv('karma_table_user.csv',delimiter=\";\")"
      ],
      "execution_count": 2,
      "outputs": []
    },
    {
      "cell_type": "code",
      "metadata": {
        "id": "HiNzdUhXBdd_",
        "colab": {
          "base_uri": "https://localhost:8080/",
          "height": 204
        },
        "outputId": "7b4aca4a-da39-445e-f103-7d8089ec630d"
      },
      "source": [
        "category.head()"
      ],
      "execution_count": 3,
      "outputs": [
        {
          "output_type": "execute_result",
          "data": {
            "text/html": [
              "<div>\n",
              "<style scoped>\n",
              "    .dataframe tbody tr th:only-of-type {\n",
              "        vertical-align: middle;\n",
              "    }\n",
              "\n",
              "    .dataframe tbody tr th {\n",
              "        vertical-align: top;\n",
              "    }\n",
              "\n",
              "    .dataframe thead th {\n",
              "        text-align: right;\n",
              "    }\n",
              "</style>\n",
              "<table border=\"1\" class=\"dataframe\">\n",
              "  <thead>\n",
              "    <tr style=\"text-align: right;\">\n",
              "      <th></th>\n",
              "      <th>category_id</th>\n",
              "      <th>name</th>\n",
              "      <th>image</th>\n",
              "    </tr>\n",
              "  </thead>\n",
              "  <tbody>\n",
              "    <tr>\n",
              "      <th>0</th>\n",
              "      <td>2</td>\n",
              "      <td>Fruits</td>\n",
              "      <td>258a4736-3b80-41ba-977e-5974547e5003.png</td>\n",
              "    </tr>\n",
              "    <tr>\n",
              "      <th>1</th>\n",
              "      <td>4</td>\n",
              "      <td>Drinks</td>\n",
              "      <td>6719f143-8b92-479d-91a8-4101446c6630.png</td>\n",
              "    </tr>\n",
              "    <tr>\n",
              "      <th>2</th>\n",
              "      <td>6</td>\n",
              "      <td>Meat and Poultry</td>\n",
              "      <td>8f36032e-d64a-4cce-bf59-1dd1fc2bd0f9.png</td>\n",
              "    </tr>\n",
              "    <tr>\n",
              "      <th>3</th>\n",
              "      <td>8</td>\n",
              "      <td>Legumes</td>\n",
              "      <td>aac0d090-5407-4390-85aa-eae0659f5297.png</td>\n",
              "    </tr>\n",
              "    <tr>\n",
              "      <th>4</th>\n",
              "      <td>9</td>\n",
              "      <td>Oil</td>\n",
              "      <td>1d7e0152-219e-49a9-8f27-8aa541f41073.png</td>\n",
              "    </tr>\n",
              "  </tbody>\n",
              "</table>\n",
              "</div>"
            ],
            "text/plain": [
              "   category_id              name                                     image\n",
              "0            2            Fruits  258a4736-3b80-41ba-977e-5974547e5003.png\n",
              "1            4            Drinks  6719f143-8b92-479d-91a8-4101446c6630.png\n",
              "2            6  Meat and Poultry  8f36032e-d64a-4cce-bf59-1dd1fc2bd0f9.png\n",
              "3            8           Legumes  aac0d090-5407-4390-85aa-eae0659f5297.png\n",
              "4            9               Oil  1d7e0152-219e-49a9-8f27-8aa541f41073.png"
            ]
          },
          "metadata": {
            "tags": []
          },
          "execution_count": 3
        }
      ]
    },
    {
      "cell_type": "code",
      "metadata": {
        "id": "IpE189riBdeD",
        "colab": {
          "base_uri": "https://localhost:8080/",
          "height": 204
        },
        "outputId": "5694f6da-3f56-45ab-c03f-97494a3b1616"
      },
      "source": [
        "table_order.head()"
      ],
      "execution_count": 4,
      "outputs": [
        {
          "output_type": "execute_result",
          "data": {
            "text/html": [
              "<div>\n",
              "<style scoped>\n",
              "    .dataframe tbody tr th:only-of-type {\n",
              "        vertical-align: middle;\n",
              "    }\n",
              "\n",
              "    .dataframe tbody tr th {\n",
              "        vertical-align: top;\n",
              "    }\n",
              "\n",
              "    .dataframe thead th {\n",
              "        text-align: right;\n",
              "    }\n",
              "</style>\n",
              "<table border=\"1\" class=\"dataframe\">\n",
              "  <thead>\n",
              "    <tr style=\"text-align: right;\">\n",
              "      <th></th>\n",
              "      <th>order_id</th>\n",
              "      <th>status</th>\n",
              "      <th>date_created</th>\n",
              "      <th>user_id</th>\n",
              "      <th>total</th>\n",
              "    </tr>\n",
              "  </thead>\n",
              "  <tbody>\n",
              "    <tr>\n",
              "      <th>0</th>\n",
              "      <td>1</td>\n",
              "      <td>pending</td>\n",
              "      <td>2021-04-27 07:04:28</td>\n",
              "      <td>2</td>\n",
              "      <td>3300</td>\n",
              "    </tr>\n",
              "    <tr>\n",
              "      <th>1</th>\n",
              "      <td>2</td>\n",
              "      <td>pending</td>\n",
              "      <td>2021-04-27 23:12:57</td>\n",
              "      <td>8</td>\n",
              "      <td>2900</td>\n",
              "    </tr>\n",
              "    <tr>\n",
              "      <th>2</th>\n",
              "      <td>3</td>\n",
              "      <td>pending</td>\n",
              "      <td>2021-04-27 23:16:32</td>\n",
              "      <td>4</td>\n",
              "      <td>2100</td>\n",
              "    </tr>\n",
              "    <tr>\n",
              "      <th>3</th>\n",
              "      <td>4</td>\n",
              "      <td>pending</td>\n",
              "      <td>2021-04-27 23:17:34</td>\n",
              "      <td>4</td>\n",
              "      <td>5250</td>\n",
              "    </tr>\n",
              "    <tr>\n",
              "      <th>4</th>\n",
              "      <td>5</td>\n",
              "      <td>pending</td>\n",
              "      <td>2021-04-27 23:21:39</td>\n",
              "      <td>6</td>\n",
              "      <td>7140</td>\n",
              "    </tr>\n",
              "  </tbody>\n",
              "</table>\n",
              "</div>"
            ],
            "text/plain": [
              "   order_id   status         date_created  user_id  total\n",
              "0         1  pending  2021-04-27 07:04:28        2   3300\n",
              "1         2  pending  2021-04-27 23:12:57        8   2900\n",
              "2         3  pending  2021-04-27 23:16:32        4   2100\n",
              "3         4  pending  2021-04-27 23:17:34        4   5250\n",
              "4         5  pending  2021-04-27 23:21:39        6   7140"
            ]
          },
          "metadata": {
            "tags": []
          },
          "execution_count": 4
        }
      ]
    },
    {
      "cell_type": "code",
      "metadata": {
        "id": "s_QXb1bDBdeE",
        "colab": {
          "base_uri": "https://localhost:8080/",
          "height": 204
        },
        "outputId": "8b27f87a-034b-4b13-d3f1-f867fa5d4130"
      },
      "source": [
        "order_item.head()"
      ],
      "execution_count": 5,
      "outputs": [
        {
          "output_type": "execute_result",
          "data": {
            "text/html": [
              "<div>\n",
              "<style scoped>\n",
              "    .dataframe tbody tr th:only-of-type {\n",
              "        vertical-align: middle;\n",
              "    }\n",
              "\n",
              "    .dataframe tbody tr th {\n",
              "        vertical-align: top;\n",
              "    }\n",
              "\n",
              "    .dataframe thead th {\n",
              "        text-align: right;\n",
              "    }\n",
              "</style>\n",
              "<table border=\"1\" class=\"dataframe\">\n",
              "  <thead>\n",
              "    <tr style=\"text-align: right;\">\n",
              "      <th></th>\n",
              "      <th>order_item_id</th>\n",
              "      <th>order_id</th>\n",
              "      <th>product_id</th>\n",
              "      <th>quantity</th>\n",
              "      <th>total</th>\n",
              "    </tr>\n",
              "  </thead>\n",
              "  <tbody>\n",
              "    <tr>\n",
              "      <th>0</th>\n",
              "      <td>1</td>\n",
              "      <td>1</td>\n",
              "      <td>36</td>\n",
              "      <td>1</td>\n",
              "      <td>300</td>\n",
              "    </tr>\n",
              "    <tr>\n",
              "      <th>1</th>\n",
              "      <td>2</td>\n",
              "      <td>1</td>\n",
              "      <td>5</td>\n",
              "      <td>1</td>\n",
              "      <td>1350</td>\n",
              "    </tr>\n",
              "    <tr>\n",
              "      <th>2</th>\n",
              "      <td>3</td>\n",
              "      <td>1</td>\n",
              "      <td>12</td>\n",
              "      <td>1</td>\n",
              "      <td>150</td>\n",
              "    </tr>\n",
              "    <tr>\n",
              "      <th>3</th>\n",
              "      <td>4</td>\n",
              "      <td>1</td>\n",
              "      <td>18</td>\n",
              "      <td>1</td>\n",
              "      <td>450</td>\n",
              "    </tr>\n",
              "    <tr>\n",
              "      <th>4</th>\n",
              "      <td>5</td>\n",
              "      <td>1</td>\n",
              "      <td>10</td>\n",
              "      <td>1</td>\n",
              "      <td>1050</td>\n",
              "    </tr>\n",
              "  </tbody>\n",
              "</table>\n",
              "</div>"
            ],
            "text/plain": [
              "   order_item_id  order_id  product_id  quantity  total\n",
              "0              1         1          36         1    300\n",
              "1              2         1           5         1   1350\n",
              "2              3         1          12         1    150\n",
              "3              4         1          18         1    450\n",
              "4              5         1          10         1   1050"
            ]
          },
          "metadata": {
            "tags": []
          },
          "execution_count": 5
        }
      ]
    },
    {
      "cell_type": "code",
      "metadata": {
        "id": "1QnSZhW_BdeH",
        "colab": {
          "base_uri": "https://localhost:8080/",
          "height": 204
        },
        "outputId": "0ca67c29-8079-4c64-e9ce-f1c74ecb6f27"
      },
      "source": [
        "product_table.head()"
      ],
      "execution_count": 6,
      "outputs": [
        {
          "output_type": "execute_result",
          "data": {
            "text/html": [
              "<div>\n",
              "<style scoped>\n",
              "    .dataframe tbody tr th:only-of-type {\n",
              "        vertical-align: middle;\n",
              "    }\n",
              "\n",
              "    .dataframe tbody tr th {\n",
              "        vertical-align: top;\n",
              "    }\n",
              "\n",
              "    .dataframe thead th {\n",
              "        text-align: right;\n",
              "    }\n",
              "</style>\n",
              "<table border=\"1\" class=\"dataframe\">\n",
              "  <thead>\n",
              "    <tr style=\"text-align: right;\">\n",
              "      <th></th>\n",
              "      <th>product_id</th>\n",
              "      <th>title</th>\n",
              "      <th>description</th>\n",
              "      <th>price</th>\n",
              "      <th>in_stock</th>\n",
              "      <th>category_id</th>\n",
              "    </tr>\n",
              "  </thead>\n",
              "  <tbody>\n",
              "    <tr>\n",
              "      <th>0</th>\n",
              "      <td>1</td>\n",
              "      <td>Banana</td>\n",
              "      <td>\\n                    \\n</td>\n",
              "      <td>600</td>\n",
              "      <td>25</td>\n",
              "      <td>2</td>\n",
              "    </tr>\n",
              "    <tr>\n",
              "      <th>1</th>\n",
              "      <td>2</td>\n",
              "      <td>Coca-Cola</td>\n",
              "      <td>\\n                    \\n</td>\n",
              "      <td>200</td>\n",
              "      <td>30</td>\n",
              "      <td>4</td>\n",
              "    </tr>\n",
              "    <tr>\n",
              "      <th>2</th>\n",
              "      <td>3</td>\n",
              "      <td>Chicken</td>\n",
              "      <td>NaN</td>\n",
              "      <td>3000</td>\n",
              "      <td>10</td>\n",
              "      <td>6</td>\n",
              "    </tr>\n",
              "    <tr>\n",
              "      <th>3</th>\n",
              "      <td>4</td>\n",
              "      <td>Green peas</td>\n",
              "      <td>NaN</td>\n",
              "      <td>400</td>\n",
              "      <td>5</td>\n",
              "      <td>8</td>\n",
              "    </tr>\n",
              "    <tr>\n",
              "      <th>4</th>\n",
              "      <td>5</td>\n",
              "      <td>Kings Oil 1L</td>\n",
              "      <td>NaN</td>\n",
              "      <td>1350</td>\n",
              "      <td>7</td>\n",
              "      <td>9</td>\n",
              "    </tr>\n",
              "  </tbody>\n",
              "</table>\n",
              "</div>"
            ],
            "text/plain": [
              "   product_id         title  ... in_stock  category_id\n",
              "0           1        Banana  ...       25            2\n",
              "1           2     Coca-Cola  ...       30            4\n",
              "2           3       Chicken  ...       10            6\n",
              "3           4    Green peas  ...        5            8\n",
              "4           5  Kings Oil 1L  ...        7            9\n",
              "\n",
              "[5 rows x 6 columns]"
            ]
          },
          "metadata": {
            "tags": []
          },
          "execution_count": 6
        }
      ]
    },
    {
      "cell_type": "code",
      "metadata": {
        "id": "9IDXl9hBBdeJ",
        "colab": {
          "base_uri": "https://localhost:8080/",
          "height": 309
        },
        "outputId": "b0934e93-30a6-42b9-8661-ae87d09a9403"
      },
      "source": [
        "user_table.head()"
      ],
      "execution_count": 7,
      "outputs": [
        {
          "output_type": "execute_result",
          "data": {
            "text/html": [
              "<div>\n",
              "<style scoped>\n",
              "    .dataframe tbody tr th:only-of-type {\n",
              "        vertical-align: middle;\n",
              "    }\n",
              "\n",
              "    .dataframe tbody tr th {\n",
              "        vertical-align: top;\n",
              "    }\n",
              "\n",
              "    .dataframe thead th {\n",
              "        text-align: right;\n",
              "    }\n",
              "</style>\n",
              "<table border=\"1\" class=\"dataframe\">\n",
              "  <thead>\n",
              "    <tr style=\"text-align: right;\">\n",
              "      <th></th>\n",
              "      <th>user_id</th>\n",
              "      <th>username</th>\n",
              "      <th>fullname</th>\n",
              "      <th>password</th>\n",
              "      <th>email</th>\n",
              "      <th>phone</th>\n",
              "      <th>date_joined</th>\n",
              "      <th>is_admin</th>\n",
              "      <th>email_is_verified</th>\n",
              "    </tr>\n",
              "  </thead>\n",
              "  <tbody>\n",
              "    <tr>\n",
              "      <th>0</th>\n",
              "      <td>1</td>\n",
              "      <td>Admin</td>\n",
              "      <td>Admin</td>\n",
              "      <td>pbkdf2:sha256:150000$QhSGbjIz$446d1c7efdff249f...</td>\n",
              "      <td>admin@gmail.com</td>\n",
              "      <td>8160262187</td>\n",
              "      <td>2021-04-24 15:13:58</td>\n",
              "      <td>1</td>\n",
              "      <td>0</td>\n",
              "    </tr>\n",
              "    <tr>\n",
              "      <th>1</th>\n",
              "      <td>2</td>\n",
              "      <td>user1</td>\n",
              "      <td>Grace Oluwaseun</td>\n",
              "      <td>pbkdf2:sha256:150000$iFZkAhdh$eff2ff588fbb982b...</td>\n",
              "      <td>user1@gmail.com</td>\n",
              "      <td>8169950674</td>\n",
              "      <td>2021-04-27 07:00:40</td>\n",
              "      <td>0</td>\n",
              "      <td>0</td>\n",
              "    </tr>\n",
              "    <tr>\n",
              "      <th>2</th>\n",
              "      <td>3</td>\n",
              "      <td>user2</td>\n",
              "      <td>Grace Oluwaseun</td>\n",
              "      <td>pbkdf2:sha256:150000$AtpAsjIF$8f38a4bcedfc6068...</td>\n",
              "      <td>user2@gmail.com</td>\n",
              "      <td>8169950674</td>\n",
              "      <td>2021-04-27 16:44:56</td>\n",
              "      <td>0</td>\n",
              "      <td>0</td>\n",
              "    </tr>\n",
              "    <tr>\n",
              "      <th>3</th>\n",
              "      <td>4</td>\n",
              "      <td>user3</td>\n",
              "      <td>Grace Oluwaseun</td>\n",
              "      <td>pbkdf2:sha256:150000$hgQAEHVw$a7ce37582439379d...</td>\n",
              "      <td>user3@gmail.com</td>\n",
              "      <td>8169950674</td>\n",
              "      <td>2021-04-27 16:47:07</td>\n",
              "      <td>0</td>\n",
              "      <td>0</td>\n",
              "    </tr>\n",
              "    <tr>\n",
              "      <th>4</th>\n",
              "      <td>5</td>\n",
              "      <td>user4</td>\n",
              "      <td>Grace Oluwaseun</td>\n",
              "      <td>pbkdf2:sha256:150000$NrR67yrp$c6393f5ec943d688...</td>\n",
              "      <td>user4@gmail.com</td>\n",
              "      <td>8169950674</td>\n",
              "      <td>2021-04-27 16:48:16</td>\n",
              "      <td>0</td>\n",
              "      <td>0</td>\n",
              "    </tr>\n",
              "  </tbody>\n",
              "</table>\n",
              "</div>"
            ],
            "text/plain": [
              "   user_id username  ... is_admin email_is_verified\n",
              "0        1    Admin  ...        1                 0\n",
              "1        2    user1  ...        0                 0\n",
              "2        3    user2  ...        0                 0\n",
              "3        4    user3  ...        0                 0\n",
              "4        5    user4  ...        0                 0\n",
              "\n",
              "[5 rows x 9 columns]"
            ]
          },
          "metadata": {
            "tags": []
          },
          "execution_count": 7
        }
      ]
    },
    {
      "cell_type": "code",
      "metadata": {
        "id": "fuAL_jb_BdeK"
      },
      "source": [
        "#merging table_order and order_item using order_id\n",
        "first_merge = pd.merge(table_order,order_item, on= 'order_id', how= 'outer')"
      ],
      "execution_count": 8,
      "outputs": []
    },
    {
      "cell_type": "code",
      "metadata": {
        "id": "PEggsqqIBdeM",
        "colab": {
          "base_uri": "https://localhost:8080/",
          "height": 204
        },
        "outputId": "3c752c91-1f93-41ce-ee1e-d54a3aeae2d6"
      },
      "source": [
        "first_merge.head()"
      ],
      "execution_count": 9,
      "outputs": [
        {
          "output_type": "execute_result",
          "data": {
            "text/html": [
              "<div>\n",
              "<style scoped>\n",
              "    .dataframe tbody tr th:only-of-type {\n",
              "        vertical-align: middle;\n",
              "    }\n",
              "\n",
              "    .dataframe tbody tr th {\n",
              "        vertical-align: top;\n",
              "    }\n",
              "\n",
              "    .dataframe thead th {\n",
              "        text-align: right;\n",
              "    }\n",
              "</style>\n",
              "<table border=\"1\" class=\"dataframe\">\n",
              "  <thead>\n",
              "    <tr style=\"text-align: right;\">\n",
              "      <th></th>\n",
              "      <th>order_id</th>\n",
              "      <th>status</th>\n",
              "      <th>date_created</th>\n",
              "      <th>user_id</th>\n",
              "      <th>total_x</th>\n",
              "      <th>order_item_id</th>\n",
              "      <th>product_id</th>\n",
              "      <th>quantity</th>\n",
              "      <th>total_y</th>\n",
              "    </tr>\n",
              "  </thead>\n",
              "  <tbody>\n",
              "    <tr>\n",
              "      <th>0</th>\n",
              "      <td>1</td>\n",
              "      <td>pending</td>\n",
              "      <td>2021-04-27 07:04:28</td>\n",
              "      <td>2</td>\n",
              "      <td>3300</td>\n",
              "      <td>1</td>\n",
              "      <td>36</td>\n",
              "      <td>1</td>\n",
              "      <td>300</td>\n",
              "    </tr>\n",
              "    <tr>\n",
              "      <th>1</th>\n",
              "      <td>1</td>\n",
              "      <td>pending</td>\n",
              "      <td>2021-04-27 07:04:28</td>\n",
              "      <td>2</td>\n",
              "      <td>3300</td>\n",
              "      <td>2</td>\n",
              "      <td>5</td>\n",
              "      <td>1</td>\n",
              "      <td>1350</td>\n",
              "    </tr>\n",
              "    <tr>\n",
              "      <th>2</th>\n",
              "      <td>1</td>\n",
              "      <td>pending</td>\n",
              "      <td>2021-04-27 07:04:28</td>\n",
              "      <td>2</td>\n",
              "      <td>3300</td>\n",
              "      <td>3</td>\n",
              "      <td>12</td>\n",
              "      <td>1</td>\n",
              "      <td>150</td>\n",
              "    </tr>\n",
              "    <tr>\n",
              "      <th>3</th>\n",
              "      <td>1</td>\n",
              "      <td>pending</td>\n",
              "      <td>2021-04-27 07:04:28</td>\n",
              "      <td>2</td>\n",
              "      <td>3300</td>\n",
              "      <td>4</td>\n",
              "      <td>18</td>\n",
              "      <td>1</td>\n",
              "      <td>450</td>\n",
              "    </tr>\n",
              "    <tr>\n",
              "      <th>4</th>\n",
              "      <td>1</td>\n",
              "      <td>pending</td>\n",
              "      <td>2021-04-27 07:04:28</td>\n",
              "      <td>2</td>\n",
              "      <td>3300</td>\n",
              "      <td>5</td>\n",
              "      <td>10</td>\n",
              "      <td>1</td>\n",
              "      <td>1050</td>\n",
              "    </tr>\n",
              "  </tbody>\n",
              "</table>\n",
              "</div>"
            ],
            "text/plain": [
              "   order_id   status         date_created  ...  product_id  quantity  total_y\n",
              "0         1  pending  2021-04-27 07:04:28  ...          36         1      300\n",
              "1         1  pending  2021-04-27 07:04:28  ...           5         1     1350\n",
              "2         1  pending  2021-04-27 07:04:28  ...          12         1      150\n",
              "3         1  pending  2021-04-27 07:04:28  ...          18         1      450\n",
              "4         1  pending  2021-04-27 07:04:28  ...          10         1     1050\n",
              "\n",
              "[5 rows x 9 columns]"
            ]
          },
          "metadata": {
            "tags": []
          },
          "execution_count": 9
        }
      ]
    },
    {
      "cell_type": "code",
      "metadata": {
        "id": "1z2Ncx1YBdeN"
      },
      "source": [
        "#merging the first merge with product_table based on product_id\n",
        "second_merge = pd.merge(first_merge,product_table, on= 'product_id', how= 'outer')"
      ],
      "execution_count": 10,
      "outputs": []
    },
    {
      "cell_type": "code",
      "metadata": {
        "id": "rlzV5CBKBdeO",
        "colab": {
          "base_uri": "https://localhost:8080/",
          "height": 479
        },
        "outputId": "696d291d-143c-4008-fdea-bd4b4950cfda"
      },
      "source": [
        "second_merge.head()"
      ],
      "execution_count": 11,
      "outputs": [
        {
          "output_type": "execute_result",
          "data": {
            "text/html": [
              "<div>\n",
              "<style scoped>\n",
              "    .dataframe tbody tr th:only-of-type {\n",
              "        vertical-align: middle;\n",
              "    }\n",
              "\n",
              "    .dataframe tbody tr th {\n",
              "        vertical-align: top;\n",
              "    }\n",
              "\n",
              "    .dataframe thead th {\n",
              "        text-align: right;\n",
              "    }\n",
              "</style>\n",
              "<table border=\"1\" class=\"dataframe\">\n",
              "  <thead>\n",
              "    <tr style=\"text-align: right;\">\n",
              "      <th></th>\n",
              "      <th>order_id</th>\n",
              "      <th>status</th>\n",
              "      <th>date_created</th>\n",
              "      <th>user_id</th>\n",
              "      <th>total_x</th>\n",
              "      <th>order_item_id</th>\n",
              "      <th>product_id</th>\n",
              "      <th>quantity</th>\n",
              "      <th>total_y</th>\n",
              "      <th>title</th>\n",
              "      <th>description</th>\n",
              "      <th>price</th>\n",
              "      <th>in_stock</th>\n",
              "      <th>category_id</th>\n",
              "    </tr>\n",
              "  </thead>\n",
              "  <tbody>\n",
              "    <tr>\n",
              "      <th>0</th>\n",
              "      <td>1</td>\n",
              "      <td>pending</td>\n",
              "      <td>2021-04-27 07:04:28</td>\n",
              "      <td>2</td>\n",
              "      <td>3300</td>\n",
              "      <td>1</td>\n",
              "      <td>36</td>\n",
              "      <td>1</td>\n",
              "      <td>300</td>\n",
              "      <td>Golden Penny Spaghetti 500g</td>\n",
              "      <td>NaN</td>\n",
              "      <td>300</td>\n",
              "      <td>24</td>\n",
              "      <td>10</td>\n",
              "    </tr>\n",
              "    <tr>\n",
              "      <th>1</th>\n",
              "      <td>12</td>\n",
              "      <td>pending</td>\n",
              "      <td>2021-04-28 01:07:42</td>\n",
              "      <td>13</td>\n",
              "      <td>3550</td>\n",
              "      <td>40</td>\n",
              "      <td>36</td>\n",
              "      <td>2</td>\n",
              "      <td>600</td>\n",
              "      <td>Golden Penny Spaghetti 500g</td>\n",
              "      <td>NaN</td>\n",
              "      <td>300</td>\n",
              "      <td>24</td>\n",
              "      <td>10</td>\n",
              "    </tr>\n",
              "    <tr>\n",
              "      <th>2</th>\n",
              "      <td>30</td>\n",
              "      <td>pending</td>\n",
              "      <td>2021-04-30 00:37:58</td>\n",
              "      <td>60</td>\n",
              "      <td>1800</td>\n",
              "      <td>89</td>\n",
              "      <td>36</td>\n",
              "      <td>2</td>\n",
              "      <td>600</td>\n",
              "      <td>Golden Penny Spaghetti 500g</td>\n",
              "      <td>NaN</td>\n",
              "      <td>300</td>\n",
              "      <td>24</td>\n",
              "      <td>10</td>\n",
              "    </tr>\n",
              "    <tr>\n",
              "      <th>3</th>\n",
              "      <td>35</td>\n",
              "      <td>pending</td>\n",
              "      <td>2021-04-30 17:21:29</td>\n",
              "      <td>35</td>\n",
              "      <td>3950</td>\n",
              "      <td>101</td>\n",
              "      <td>36</td>\n",
              "      <td>1</td>\n",
              "      <td>300</td>\n",
              "      <td>Golden Penny Spaghetti 500g</td>\n",
              "      <td>NaN</td>\n",
              "      <td>300</td>\n",
              "      <td>24</td>\n",
              "      <td>10</td>\n",
              "    </tr>\n",
              "    <tr>\n",
              "      <th>4</th>\n",
              "      <td>45</td>\n",
              "      <td>pending</td>\n",
              "      <td>2021-05-06 12:15:26</td>\n",
              "      <td>104</td>\n",
              "      <td>2300</td>\n",
              "      <td>122</td>\n",
              "      <td>36</td>\n",
              "      <td>1</td>\n",
              "      <td>300</td>\n",
              "      <td>Golden Penny Spaghetti 500g</td>\n",
              "      <td>NaN</td>\n",
              "      <td>300</td>\n",
              "      <td>24</td>\n",
              "      <td>10</td>\n",
              "    </tr>\n",
              "  </tbody>\n",
              "</table>\n",
              "</div>"
            ],
            "text/plain": [
              "   order_id   status         date_created  ...  price  in_stock  category_id\n",
              "0         1  pending  2021-04-27 07:04:28  ...    300        24           10\n",
              "1        12  pending  2021-04-28 01:07:42  ...    300        24           10\n",
              "2        30  pending  2021-04-30 00:37:58  ...    300        24           10\n",
              "3        35  pending  2021-04-30 17:21:29  ...    300        24           10\n",
              "4        45  pending  2021-05-06 12:15:26  ...    300        24           10\n",
              "\n",
              "[5 rows x 14 columns]"
            ]
          },
          "metadata": {
            "tags": []
          },
          "execution_count": 11
        }
      ]
    },
    {
      "cell_type": "code",
      "metadata": {
        "id": "RFwdvwOCBdeP"
      },
      "source": [
        "#merging the second_merge with user_table on user_id\n",
        "new_data = pd.merge(second_merge,user_table, on= 'user_id', how= 'outer')"
      ],
      "execution_count": 12,
      "outputs": []
    },
    {
      "cell_type": "code",
      "metadata": {
        "id": "fOrfpHcQBdeQ",
        "colab": {
          "base_uri": "https://localhost:8080/",
          "height": 394
        },
        "outputId": "d1d07182-2ac5-4adf-b7d5-887a16dddd44"
      },
      "source": [
        "new_data.head()"
      ],
      "execution_count": 13,
      "outputs": [
        {
          "output_type": "execute_result",
          "data": {
            "text/html": [
              "<div>\n",
              "<style scoped>\n",
              "    .dataframe tbody tr th:only-of-type {\n",
              "        vertical-align: middle;\n",
              "    }\n",
              "\n",
              "    .dataframe tbody tr th {\n",
              "        vertical-align: top;\n",
              "    }\n",
              "\n",
              "    .dataframe thead th {\n",
              "        text-align: right;\n",
              "    }\n",
              "</style>\n",
              "<table border=\"1\" class=\"dataframe\">\n",
              "  <thead>\n",
              "    <tr style=\"text-align: right;\">\n",
              "      <th></th>\n",
              "      <th>order_id</th>\n",
              "      <th>status</th>\n",
              "      <th>date_created</th>\n",
              "      <th>user_id</th>\n",
              "      <th>total_x</th>\n",
              "      <th>order_item_id</th>\n",
              "      <th>product_id</th>\n",
              "      <th>quantity</th>\n",
              "      <th>total_y</th>\n",
              "      <th>title</th>\n",
              "      <th>description</th>\n",
              "      <th>price</th>\n",
              "      <th>in_stock</th>\n",
              "      <th>category_id</th>\n",
              "      <th>username</th>\n",
              "      <th>fullname</th>\n",
              "      <th>password</th>\n",
              "      <th>email</th>\n",
              "      <th>phone</th>\n",
              "      <th>date_joined</th>\n",
              "      <th>is_admin</th>\n",
              "      <th>email_is_verified</th>\n",
              "    </tr>\n",
              "  </thead>\n",
              "  <tbody>\n",
              "    <tr>\n",
              "      <th>0</th>\n",
              "      <td>1.0</td>\n",
              "      <td>pending</td>\n",
              "      <td>2021-04-27 07:04:28</td>\n",
              "      <td>2</td>\n",
              "      <td>3300.0</td>\n",
              "      <td>1.0</td>\n",
              "      <td>36.0</td>\n",
              "      <td>1.0</td>\n",
              "      <td>300.0</td>\n",
              "      <td>Golden Penny Spaghetti 500g</td>\n",
              "      <td>NaN</td>\n",
              "      <td>300.0</td>\n",
              "      <td>24.0</td>\n",
              "      <td>10.0</td>\n",
              "      <td>user1</td>\n",
              "      <td>Grace Oluwaseun</td>\n",
              "      <td>pbkdf2:sha256:150000$iFZkAhdh$eff2ff588fbb982b...</td>\n",
              "      <td>user1@gmail.com</td>\n",
              "      <td>8169950674</td>\n",
              "      <td>2021-04-27 07:00:40</td>\n",
              "      <td>0</td>\n",
              "      <td>0</td>\n",
              "    </tr>\n",
              "    <tr>\n",
              "      <th>1</th>\n",
              "      <td>1.0</td>\n",
              "      <td>pending</td>\n",
              "      <td>2021-04-27 07:04:28</td>\n",
              "      <td>2</td>\n",
              "      <td>3300.0</td>\n",
              "      <td>2.0</td>\n",
              "      <td>5.0</td>\n",
              "      <td>1.0</td>\n",
              "      <td>1350.0</td>\n",
              "      <td>Kings Oil 1L</td>\n",
              "      <td>NaN</td>\n",
              "      <td>1350.0</td>\n",
              "      <td>7.0</td>\n",
              "      <td>9.0</td>\n",
              "      <td>user1</td>\n",
              "      <td>Grace Oluwaseun</td>\n",
              "      <td>pbkdf2:sha256:150000$iFZkAhdh$eff2ff588fbb982b...</td>\n",
              "      <td>user1@gmail.com</td>\n",
              "      <td>8169950674</td>\n",
              "      <td>2021-04-27 07:00:40</td>\n",
              "      <td>0</td>\n",
              "      <td>0</td>\n",
              "    </tr>\n",
              "    <tr>\n",
              "      <th>2</th>\n",
              "      <td>1.0</td>\n",
              "      <td>pending</td>\n",
              "      <td>2021-04-27 07:04:28</td>\n",
              "      <td>2</td>\n",
              "      <td>3300.0</td>\n",
              "      <td>3.0</td>\n",
              "      <td>12.0</td>\n",
              "      <td>1.0</td>\n",
              "      <td>150.0</td>\n",
              "      <td>Fanta Pet Bottle 50cl</td>\n",
              "      <td>NaN</td>\n",
              "      <td>150.0</td>\n",
              "      <td>24.0</td>\n",
              "      <td>4.0</td>\n",
              "      <td>user1</td>\n",
              "      <td>Grace Oluwaseun</td>\n",
              "      <td>pbkdf2:sha256:150000$iFZkAhdh$eff2ff588fbb982b...</td>\n",
              "      <td>user1@gmail.com</td>\n",
              "      <td>8169950674</td>\n",
              "      <td>2021-04-27 07:00:40</td>\n",
              "      <td>0</td>\n",
              "      <td>0</td>\n",
              "    </tr>\n",
              "    <tr>\n",
              "      <th>3</th>\n",
              "      <td>1.0</td>\n",
              "      <td>pending</td>\n",
              "      <td>2021-04-27 07:04:28</td>\n",
              "      <td>2</td>\n",
              "      <td>3300.0</td>\n",
              "      <td>4.0</td>\n",
              "      <td>18.0</td>\n",
              "      <td>1.0</td>\n",
              "      <td>450.0</td>\n",
              "      <td>Lettuce</td>\n",
              "      <td>\\n                    \\n</td>\n",
              "      <td>450.0</td>\n",
              "      <td>20.0</td>\n",
              "      <td>12.0</td>\n",
              "      <td>user1</td>\n",
              "      <td>Grace Oluwaseun</td>\n",
              "      <td>pbkdf2:sha256:150000$iFZkAhdh$eff2ff588fbb982b...</td>\n",
              "      <td>user1@gmail.com</td>\n",
              "      <td>8169950674</td>\n",
              "      <td>2021-04-27 07:00:40</td>\n",
              "      <td>0</td>\n",
              "      <td>0</td>\n",
              "    </tr>\n",
              "    <tr>\n",
              "      <th>4</th>\n",
              "      <td>1.0</td>\n",
              "      <td>pending</td>\n",
              "      <td>2021-04-27 07:04:28</td>\n",
              "      <td>2</td>\n",
              "      <td>3300.0</td>\n",
              "      <td>5.0</td>\n",
              "      <td>10.0</td>\n",
              "      <td>1.0</td>\n",
              "      <td>1050.0</td>\n",
              "      <td>Titus Fish - Frozen</td>\n",
              "      <td>NaN</td>\n",
              "      <td>1050.0</td>\n",
              "      <td>7.0</td>\n",
              "      <td>13.0</td>\n",
              "      <td>user1</td>\n",
              "      <td>Grace Oluwaseun</td>\n",
              "      <td>pbkdf2:sha256:150000$iFZkAhdh$eff2ff588fbb982b...</td>\n",
              "      <td>user1@gmail.com</td>\n",
              "      <td>8169950674</td>\n",
              "      <td>2021-04-27 07:00:40</td>\n",
              "      <td>0</td>\n",
              "      <td>0</td>\n",
              "    </tr>\n",
              "  </tbody>\n",
              "</table>\n",
              "</div>"
            ],
            "text/plain": [
              "   order_id   status  ... is_admin  email_is_verified\n",
              "0       1.0  pending  ...        0                  0\n",
              "1       1.0  pending  ...        0                  0\n",
              "2       1.0  pending  ...        0                  0\n",
              "3       1.0  pending  ...        0                  0\n",
              "4       1.0  pending  ...        0                  0\n",
              "\n",
              "[5 rows x 22 columns]"
            ]
          },
          "metadata": {
            "tags": []
          },
          "execution_count": 13
        }
      ]
    },
    {
      "cell_type": "code",
      "metadata": {
        "id": "g0bg_S0kBdeR",
        "colab": {
          "base_uri": "https://localhost:8080/"
        },
        "outputId": "a1b8d87e-5ace-48c0-8da4-76180f12b0c0"
      },
      "source": [
        "new_data.info()"
      ],
      "execution_count": 14,
      "outputs": [
        {
          "output_type": "stream",
          "text": [
            "<class 'pandas.core.frame.DataFrame'>\n",
            "Int64Index: 1180 entries, 0 to 1179\n",
            "Data columns (total 22 columns):\n",
            " #   Column             Non-Null Count  Dtype  \n",
            "---  ------             --------------  -----  \n",
            " 0   order_id           265 non-null    float64\n",
            " 1   status             265 non-null    object \n",
            " 2   date_created       265 non-null    object \n",
            " 3   user_id            1180 non-null   int64  \n",
            " 4   total_x            265 non-null    float64\n",
            " 5   order_item_id      265 non-null    float64\n",
            " 6   product_id         265 non-null    float64\n",
            " 7   quantity           265 non-null    float64\n",
            " 8   total_y            265 non-null    float64\n",
            " 9   title              265 non-null    object \n",
            " 10  description        43 non-null     object \n",
            " 11  price              265 non-null    float64\n",
            " 12  in_stock           265 non-null    float64\n",
            " 13  category_id        265 non-null    float64\n",
            " 14  username           1180 non-null   object \n",
            " 15  fullname           1180 non-null   object \n",
            " 16  password           1180 non-null   object \n",
            " 17  email              1180 non-null   object \n",
            " 18  phone              1180 non-null   int64  \n",
            " 19  date_joined        1180 non-null   object \n",
            " 20  is_admin           1180 non-null   int64  \n",
            " 21  email_is_verified  1180 non-null   int64  \n",
            "dtypes: float64(9), int64(4), object(9)\n",
            "memory usage: 212.0+ KB\n"
          ],
          "name": "stdout"
        }
      ]
    },
    {
      "cell_type": "code",
      "metadata": {
        "id": "9phSwoX0BdeS",
        "colab": {
          "base_uri": "https://localhost:8080/"
        },
        "outputId": "9a9b210d-9294-40cb-97f8-cb7de9d7d667"
      },
      "source": [
        "new_data.shape"
      ],
      "execution_count": 15,
      "outputs": [
        {
          "output_type": "execute_result",
          "data": {
            "text/plain": [
              "(1180, 22)"
            ]
          },
          "metadata": {
            "tags": []
          },
          "execution_count": 15
        }
      ]
    },
    {
      "cell_type": "code",
      "metadata": {
        "id": "jugIEUyDBdeT",
        "colab": {
          "base_uri": "https://localhost:8080/",
          "height": 356
        },
        "outputId": "d65e8a34-33ed-4df0-c2fb-9e13a4248bdc"
      },
      "source": [
        "sns.heatmap(new_data.isnull(),yticklabels=False,cbar=False,cmap='viridis')\n",
        "#"
      ],
      "execution_count": 16,
      "outputs": [
        {
          "output_type": "execute_result",
          "data": {
            "text/plain": [
              "<matplotlib.axes._subplots.AxesSubplot at 0x7f52f26f4350>"
            ]
          },
          "metadata": {
            "tags": []
          },
          "execution_count": 16
        },
        {
          "output_type": "display_data",
          "data": {
            "image/png": "[encoded data removed]",
            "text/plain": [
              "<Figure size 432x288 with 1 Axes>"
            ]
          },
          "metadata": {
            "tags": [],
            "needs_background": "light"
          }
        }
      ]
    },
    {
      "cell_type": "code",
      "metadata": {
        "id": "VIPCwn6EBdeU"
      },
      "source": [
        "#data cleaning dropping unnecessary columns\n",
        "new_data = new_data.drop(['status','date_created','total_x','total_y',\n",
        "                  'description','in_stock','username','fullname',\n",
        "                  'password','email','phone','date_joined','is_admin','email_is_verified'],axis=1)"
      ],
      "execution_count": 17,
      "outputs": []
    },
    {
      "cell_type": "code",
      "metadata": {
        "id": "HcHdwxrYFasc",
        "colab": {
          "base_uri": "https://localhost:8080/"
        },
        "outputId": "9291b59c-d73d-4913-90fa-340024fb4d5a"
      },
      "source": [
        "new_data.shape"
      ],
      "execution_count": 18,
      "outputs": [
        {
          "output_type": "execute_result",
          "data": {
            "text/plain": [
              "(1180, 8)"
            ]
          },
          "metadata": {
            "tags": []
          },
          "execution_count": 18
        }
      ]
    },
    {
      "cell_type": "code",
      "metadata": {
        "id": "-zEnDLO_Fg7r",
        "colab": {
          "base_uri": "https://localhost:8080/"
        },
        "outputId": "fa834dd0-70d9-40f3-a7a8-ad6aeb114fa3"
      },
      "source": [
        "new_data.info()"
      ],
      "execution_count": 19,
      "outputs": [
        {
          "output_type": "stream",
          "text": [
            "<class 'pandas.core.frame.DataFrame'>\n",
            "Int64Index: 1180 entries, 0 to 1179\n",
            "Data columns (total 8 columns):\n",
            " #   Column         Non-Null Count  Dtype  \n",
            "---  ------         --------------  -----  \n",
            " 0   order_id       265 non-null    float64\n",
            " 1   user_id        1180 non-null   int64  \n",
            " 2   order_item_id  265 non-null    float64\n",
            " 3   product_id     265 non-null    float64\n",
            " 4   quantity       265 non-null    float64\n",
            " 5   title          265 non-null    object \n",
            " 6   price          265 non-null    float64\n",
            " 7   category_id    265 non-null    float64\n",
            "dtypes: float64(6), int64(1), object(1)\n",
            "memory usage: 83.0+ KB\n"
          ],
          "name": "stdout"
        }
      ]
    },
    {
      "cell_type": "code",
      "metadata": {
        "id": "9bs_ptb2FkVR",
        "colab": {
          "base_uri": "https://localhost:8080/",
          "height": 531
        },
        "outputId": "b14f1b83-217e-4af4-86f3-bfaeb3cd57f1"
      },
      "source": [
        "new_data.head(15)"
      ],
      "execution_count": 20,
      "outputs": [
        {
          "output_type": "execute_result",
          "data": {
            "text/html": [
              "<div>\n",
              "<style scoped>\n",
              "    .dataframe tbody tr th:only-of-type {\n",
              "        vertical-align: middle;\n",
              "    }\n",
              "\n",
              "    .dataframe tbody tr th {\n",
              "        vertical-align: top;\n",
              "    }\n",
              "\n",
              "    .dataframe thead th {\n",
              "        text-align: right;\n",
              "    }\n",
              "</style>\n",
              "<table border=\"1\" class=\"dataframe\">\n",
              "  <thead>\n",
              "    <tr style=\"text-align: right;\">\n",
              "      <th></th>\n",
              "      <th>order_id</th>\n",
              "      <th>user_id</th>\n",
              "      <th>order_item_id</th>\n",
              "      <th>product_id</th>\n",
              "      <th>quantity</th>\n",
              "      <th>title</th>\n",
              "      <th>price</th>\n",
              "      <th>category_id</th>\n",
              "    </tr>\n",
              "  </thead>\n",
              "  <tbody>\n",
              "    <tr>\n",
              "      <th>0</th>\n",
              "      <td>1.0</td>\n",
              "      <td>2</td>\n",
              "      <td>1.0</td>\n",
              "      <td>36.0</td>\n",
              "      <td>1.0</td>\n",
              "      <td>Golden Penny Spaghetti 500g</td>\n",
              "      <td>300.0</td>\n",
              "      <td>10.0</td>\n",
              "    </tr>\n",
              "    <tr>\n",
              "      <th>1</th>\n",
              "      <td>1.0</td>\n",
              "      <td>2</td>\n",
              "      <td>2.0</td>\n",
              "      <td>5.0</td>\n",
              "      <td>1.0</td>\n",
              "      <td>Kings Oil 1L</td>\n",
              "      <td>1350.0</td>\n",
              "      <td>9.0</td>\n",
              "    </tr>\n",
              "    <tr>\n",
              "      <th>2</th>\n",
              "      <td>1.0</td>\n",
              "      <td>2</td>\n",
              "      <td>3.0</td>\n",
              "      <td>12.0</td>\n",
              "      <td>1.0</td>\n",
              "      <td>Fanta Pet Bottle 50cl</td>\n",
              "      <td>150.0</td>\n",
              "      <td>4.0</td>\n",
              "    </tr>\n",
              "    <tr>\n",
              "      <th>3</th>\n",
              "      <td>1.0</td>\n",
              "      <td>2</td>\n",
              "      <td>4.0</td>\n",
              "      <td>18.0</td>\n",
              "      <td>1.0</td>\n",
              "      <td>Lettuce</td>\n",
              "      <td>450.0</td>\n",
              "      <td>12.0</td>\n",
              "    </tr>\n",
              "    <tr>\n",
              "      <th>4</th>\n",
              "      <td>1.0</td>\n",
              "      <td>2</td>\n",
              "      <td>5.0</td>\n",
              "      <td>10.0</td>\n",
              "      <td>1.0</td>\n",
              "      <td>Titus Fish - Frozen</td>\n",
              "      <td>1050.0</td>\n",
              "      <td>13.0</td>\n",
              "    </tr>\n",
              "    <tr>\n",
              "      <th>5</th>\n",
              "      <td>12.0</td>\n",
              "      <td>13</td>\n",
              "      <td>40.0</td>\n",
              "      <td>36.0</td>\n",
              "      <td>2.0</td>\n",
              "      <td>Golden Penny Spaghetti 500g</td>\n",
              "      <td>300.0</td>\n",
              "      <td>10.0</td>\n",
              "    </tr>\n",
              "    <tr>\n",
              "      <th>6</th>\n",
              "      <td>12.0</td>\n",
              "      <td>13</td>\n",
              "      <td>41.0</td>\n",
              "      <td>5.0</td>\n",
              "      <td>1.0</td>\n",
              "      <td>Kings Oil 1L</td>\n",
              "      <td>1350.0</td>\n",
              "      <td>9.0</td>\n",
              "    </tr>\n",
              "    <tr>\n",
              "      <th>7</th>\n",
              "      <td>12.0</td>\n",
              "      <td>13</td>\n",
              "      <td>39.0</td>\n",
              "      <td>57.0</td>\n",
              "      <td>1.0</td>\n",
              "      <td>Gino Tomato Paste Sachet 70g x 10</td>\n",
              "      <td>1600.0</td>\n",
              "      <td>9.0</td>\n",
              "    </tr>\n",
              "    <tr>\n",
              "      <th>8</th>\n",
              "      <td>30.0</td>\n",
              "      <td>60</td>\n",
              "      <td>89.0</td>\n",
              "      <td>36.0</td>\n",
              "      <td>2.0</td>\n",
              "      <td>Golden Penny Spaghetti 500g</td>\n",
              "      <td>300.0</td>\n",
              "      <td>10.0</td>\n",
              "    </tr>\n",
              "    <tr>\n",
              "      <th>9</th>\n",
              "      <td>30.0</td>\n",
              "      <td>60</td>\n",
              "      <td>88.0</td>\n",
              "      <td>56.0</td>\n",
              "      <td>1.0</td>\n",
              "      <td>Gino Magic Peppe &amp; Onion Tomato Mix Sachet 70g...</td>\n",
              "      <td>1200.0</td>\n",
              "      <td>9.0</td>\n",
              "    </tr>\n",
              "    <tr>\n",
              "      <th>10</th>\n",
              "      <td>35.0</td>\n",
              "      <td>35</td>\n",
              "      <td>101.0</td>\n",
              "      <td>36.0</td>\n",
              "      <td>1.0</td>\n",
              "      <td>Golden Penny Spaghetti 500g</td>\n",
              "      <td>300.0</td>\n",
              "      <td>10.0</td>\n",
              "    </tr>\n",
              "    <tr>\n",
              "      <th>11</th>\n",
              "      <td>35.0</td>\n",
              "      <td>35</td>\n",
              "      <td>100.0</td>\n",
              "      <td>35.0</td>\n",
              "      <td>1.0</td>\n",
              "      <td>Maltina Classic Malt Drink Can 33 cl x24</td>\n",
              "      <td>3650.0</td>\n",
              "      <td>4.0</td>\n",
              "    </tr>\n",
              "    <tr>\n",
              "      <th>12</th>\n",
              "      <td>45.0</td>\n",
              "      <td>104</td>\n",
              "      <td>122.0</td>\n",
              "      <td>36.0</td>\n",
              "      <td>1.0</td>\n",
              "      <td>Golden Penny Spaghetti 500g</td>\n",
              "      <td>300.0</td>\n",
              "      <td>10.0</td>\n",
              "    </tr>\n",
              "    <tr>\n",
              "      <th>13</th>\n",
              "      <td>45.0</td>\n",
              "      <td>104</td>\n",
              "      <td>123.0</td>\n",
              "      <td>34.0</td>\n",
              "      <td>1.0</td>\n",
              "      <td>Prawn - Basket</td>\n",
              "      <td>1500.0</td>\n",
              "      <td>13.0</td>\n",
              "    </tr>\n",
              "    <tr>\n",
              "      <th>14</th>\n",
              "      <td>45.0</td>\n",
              "      <td>104</td>\n",
              "      <td>124.0</td>\n",
              "      <td>24.0</td>\n",
              "      <td>1.0</td>\n",
              "      <td>Efo soko</td>\n",
              "      <td>500.0</td>\n",
              "      <td>12.0</td>\n",
              "    </tr>\n",
              "  </tbody>\n",
              "</table>\n",
              "</div>"
            ],
            "text/plain": [
              "    order_id  user_id  ...   price  category_id\n",
              "0        1.0        2  ...   300.0         10.0\n",
              "1        1.0        2  ...  1350.0          9.0\n",
              "2        1.0        2  ...   150.0          4.0\n",
              "3        1.0        2  ...   450.0         12.0\n",
              "4        1.0        2  ...  1050.0         13.0\n",
              "5       12.0       13  ...   300.0         10.0\n",
              "6       12.0       13  ...  1350.0          9.0\n",
              "7       12.0       13  ...  1600.0          9.0\n",
              "8       30.0       60  ...   300.0         10.0\n",
              "9       30.0       60  ...  1200.0          9.0\n",
              "10      35.0       35  ...   300.0         10.0\n",
              "11      35.0       35  ...  3650.0          4.0\n",
              "12      45.0      104  ...   300.0         10.0\n",
              "13      45.0      104  ...  1500.0         13.0\n",
              "14      45.0      104  ...   500.0         12.0\n",
              "\n",
              "[15 rows x 8 columns]"
            ]
          },
          "metadata": {
            "tags": []
          },
          "execution_count": 20
        }
      ]
    },
    {
      "cell_type": "code",
      "metadata": {
        "id": "hT4XPbAKFwI0",
        "colab": {
          "base_uri": "https://localhost:8080/"
        },
        "outputId": "c9439bd8-8780-45aa-f394-8f73303eb1a0"
      },
      "source": [
        "new_data.isnull().sum()"
      ],
      "execution_count": 21,
      "outputs": [
        {
          "output_type": "execute_result",
          "data": {
            "text/plain": [
              "order_id         915\n",
              "user_id            0\n",
              "order_item_id    915\n",
              "product_id       915\n",
              "quantity         915\n",
              "title            915\n",
              "price            915\n",
              "category_id      915\n",
              "dtype: int64"
            ]
          },
          "metadata": {
            "tags": []
          },
          "execution_count": 21
        }
      ]
    },
    {
      "cell_type": "code",
      "metadata": {
        "id": "e-OLEivRF-CA"
      },
      "source": [
        "new_data.dropna(axis='rows',inplace=True)\n"
      ],
      "execution_count": 22,
      "outputs": []
    },
    {
      "cell_type": "code",
      "metadata": {
        "id": "kMADHc-SIclx",
        "colab": {
          "base_uri": "https://localhost:8080/"
        },
        "outputId": "9c4c5d97-c483-45be-8428-cf9eea9dc2aa"
      },
      "source": [
        "new_data.isnull().sum()"
      ],
      "execution_count": 23,
      "outputs": [
        {
          "output_type": "execute_result",
          "data": {
            "text/plain": [
              "order_id         0\n",
              "user_id          0\n",
              "order_item_id    0\n",
              "product_id       0\n",
              "quantity         0\n",
              "title            0\n",
              "price            0\n",
              "category_id      0\n",
              "dtype: int64"
            ]
          },
          "metadata": {
            "tags": []
          },
          "execution_count": 23
        }
      ]
    },
    {
      "cell_type": "code",
      "metadata": {
        "id": "ZXp-_EW-Ij4J",
        "colab": {
          "base_uri": "https://localhost:8080/"
        },
        "outputId": "75a221d3-ff8a-4386-c79c-eb7ca8d45bc6"
      },
      "source": [
        "new_data.info()"
      ],
      "execution_count": 24,
      "outputs": [
        {
          "output_type": "stream",
          "text": [
            "<class 'pandas.core.frame.DataFrame'>\n",
            "Int64Index: 265 entries, 0 to 264\n",
            "Data columns (total 8 columns):\n",
            " #   Column         Non-Null Count  Dtype  \n",
            "---  ------         --------------  -----  \n",
            " 0   order_id       265 non-null    float64\n",
            " 1   user_id        265 non-null    int64  \n",
            " 2   order_item_id  265 non-null    float64\n",
            " 3   product_id     265 non-null    float64\n",
            " 4   quantity       265 non-null    float64\n",
            " 5   title          265 non-null    object \n",
            " 6   price          265 non-null    float64\n",
            " 7   category_id    265 non-null    float64\n",
            "dtypes: float64(6), int64(1), object(1)\n",
            "memory usage: 18.6+ KB\n"
          ],
          "name": "stdout"
        }
      ]
    },
    {
      "cell_type": "code",
      "metadata": {
        "id": "EA4gcPwFpfne",
        "colab": {
          "base_uri": "https://localhost:8080/"
        },
        "outputId": "7981ccf2-4250-423f-c693-c1896cf794ac"
      },
      "source": [
        "new_data['product_id'].value_counts()"
      ],
      "execution_count": 25,
      "outputs": [
        {
          "output_type": "execute_result",
          "data": {
            "text/plain": [
              "29.0    9\n",
              "5.0     8\n",
              "58.0    8\n",
              "55.0    8\n",
              "24.0    8\n",
              "49.0    8\n",
              "36.0    7\n",
              "50.0    7\n",
              "32.0    7\n",
              "42.0    7\n",
              "28.0    6\n",
              "37.0    6\n",
              "52.0    6\n",
              "35.0    6\n",
              "18.0    6\n",
              "39.0    6\n",
              "40.0    6\n",
              "8.0     6\n",
              "46.0    5\n",
              "21.0    5\n",
              "19.0    5\n",
              "34.0    5\n",
              "1.0     5\n",
              "15.0    5\n",
              "47.0    5\n",
              "13.0    5\n",
              "31.0    5\n",
              "27.0    4\n",
              "11.0    4\n",
              "48.0    4\n",
              "51.0    4\n",
              "41.0    4\n",
              "22.0    4\n",
              "56.0    4\n",
              "10.0    4\n",
              "25.0    4\n",
              "54.0    4\n",
              "4.0     4\n",
              "23.0    4\n",
              "33.0    4\n",
              "12.0    3\n",
              "57.0    3\n",
              "16.0    3\n",
              "20.0    3\n",
              "26.0    3\n",
              "6.0     3\n",
              "44.0    3\n",
              "43.0    3\n",
              "2.0     3\n",
              "53.0    3\n",
              "30.0    2\n",
              "38.0    2\n",
              "9.0     2\n",
              "3.0     2\n",
              "17.0    2\n",
              "14.0    2\n",
              "45.0    1\n",
              "Name: product_id, dtype: int64"
            ]
          },
          "metadata": {
            "tags": []
          },
          "execution_count": 25
        }
      ]
    },
    {
      "cell_type": "code",
      "metadata": {
        "id": "9-xTRS0DqHOr",
        "colab": {
          "base_uri": "https://localhost:8080/",
          "height": 538
        },
        "outputId": "a87e6766-68a4-4222-cd64-4bf203f8436b"
      },
      "source": [
        "new_data['frequency_count']= new_data['product_id'].value_counts()\n",
        "#new3.isnull().sum()\n",
        "new_data"
      ],
      "execution_count": 27,
      "outputs": [
        {
          "output_type": "execute_result",
          "data": {
            "text/html": [
              "<div>\n",
              "<style scoped>\n",
              "    .dataframe tbody tr th:only-of-type {\n",
              "        vertical-align: middle;\n",
              "    }\n",
              "\n",
              "    .dataframe tbody tr th {\n",
              "        vertical-align: top;\n",
              "    }\n",
              "\n",
              "    .dataframe thead th {\n",
              "        text-align: right;\n",
              "    }\n",
              "</style>\n",
              "<table border=\"1\" class=\"dataframe\">\n",
              "  <thead>\n",
              "    <tr style=\"text-align: right;\">\n",
              "      <th></th>\n",
              "      <th>order_id</th>\n",
              "      <th>user_id</th>\n",
              "      <th>order_item_id</th>\n",
              "      <th>product_id</th>\n",
              "      <th>quantity</th>\n",
              "      <th>title</th>\n",
              "      <th>price</th>\n",
              "      <th>category_id</th>\n",
              "      <th>frequency_count</th>\n",
              "    </tr>\n",
              "  </thead>\n",
              "  <tbody>\n",
              "    <tr>\n",
              "      <th>0</th>\n",
              "      <td>1.0</td>\n",
              "      <td>2</td>\n",
              "      <td>1.0</td>\n",
              "      <td>36.0</td>\n",
              "      <td>1.0</td>\n",
              "      <td>Golden Penny Spaghetti 500g</td>\n",
              "      <td>300.0</td>\n",
              "      <td>10.0</td>\n",
              "      <td>NaN</td>\n",
              "    </tr>\n",
              "    <tr>\n",
              "      <th>1</th>\n",
              "      <td>1.0</td>\n",
              "      <td>2</td>\n",
              "      <td>2.0</td>\n",
              "      <td>5.0</td>\n",
              "      <td>1.0</td>\n",
              "      <td>Kings Oil 1L</td>\n",
              "      <td>1350.0</td>\n",
              "      <td>9.0</td>\n",
              "      <td>5.0</td>\n",
              "    </tr>\n",
              "    <tr>\n",
              "      <th>2</th>\n",
              "      <td>1.0</td>\n",
              "      <td>2</td>\n",
              "      <td>3.0</td>\n",
              "      <td>12.0</td>\n",
              "      <td>1.0</td>\n",
              "      <td>Fanta Pet Bottle 50cl</td>\n",
              "      <td>150.0</td>\n",
              "      <td>4.0</td>\n",
              "      <td>3.0</td>\n",
              "    </tr>\n",
              "    <tr>\n",
              "      <th>3</th>\n",
              "      <td>1.0</td>\n",
              "      <td>2</td>\n",
              "      <td>4.0</td>\n",
              "      <td>18.0</td>\n",
              "      <td>1.0</td>\n",
              "      <td>Lettuce</td>\n",
              "      <td>450.0</td>\n",
              "      <td>12.0</td>\n",
              "      <td>2.0</td>\n",
              "    </tr>\n",
              "    <tr>\n",
              "      <th>4</th>\n",
              "      <td>1.0</td>\n",
              "      <td>2</td>\n",
              "      <td>5.0</td>\n",
              "      <td>10.0</td>\n",
              "      <td>1.0</td>\n",
              "      <td>Titus Fish - Frozen</td>\n",
              "      <td>1050.0</td>\n",
              "      <td>13.0</td>\n",
              "      <td>4.0</td>\n",
              "    </tr>\n",
              "    <tr>\n",
              "      <th>...</th>\n",
              "      <td>...</td>\n",
              "      <td>...</td>\n",
              "      <td>...</td>\n",
              "      <td>...</td>\n",
              "      <td>...</td>\n",
              "      <td>...</td>\n",
              "      <td>...</td>\n",
              "      <td>...</td>\n",
              "      <td>...</td>\n",
              "    </tr>\n",
              "    <tr>\n",
              "      <th>260</th>\n",
              "      <td>80.0</td>\n",
              "      <td>133</td>\n",
              "      <td>241.0</td>\n",
              "      <td>35.0</td>\n",
              "      <td>1.0</td>\n",
              "      <td>Maltina Classic Malt Drink Can 33 cl x24</td>\n",
              "      <td>3650.0</td>\n",
              "      <td>4.0</td>\n",
              "      <td>NaN</td>\n",
              "    </tr>\n",
              "    <tr>\n",
              "      <th>261</th>\n",
              "      <td>34.0</td>\n",
              "      <td>34</td>\n",
              "      <td>99.0</td>\n",
              "      <td>56.0</td>\n",
              "      <td>1.0</td>\n",
              "      <td>Gino Magic Peppe &amp; Onion Tomato Mix Sachet 70g...</td>\n",
              "      <td>1200.0</td>\n",
              "      <td>9.0</td>\n",
              "      <td>NaN</td>\n",
              "    </tr>\n",
              "    <tr>\n",
              "      <th>262</th>\n",
              "      <td>37.0</td>\n",
              "      <td>37</td>\n",
              "      <td>104.0</td>\n",
              "      <td>6.0</td>\n",
              "      <td>1.0</td>\n",
              "      <td>Rice</td>\n",
              "      <td>13500.0</td>\n",
              "      <td>10.0</td>\n",
              "      <td>NaN</td>\n",
              "    </tr>\n",
              "    <tr>\n",
              "      <th>263</th>\n",
              "      <td>38.0</td>\n",
              "      <td>38</td>\n",
              "      <td>105.0</td>\n",
              "      <td>43.0</td>\n",
              "      <td>1.0</td>\n",
              "      <td>Nasco Corn Flakes Original 500g</td>\n",
              "      <td>1150.0</td>\n",
              "      <td>10.0</td>\n",
              "      <td>NaN</td>\n",
              "    </tr>\n",
              "    <tr>\n",
              "      <th>264</th>\n",
              "      <td>38.0</td>\n",
              "      <td>38</td>\n",
              "      <td>106.0</td>\n",
              "      <td>44.0</td>\n",
              "      <td>2.0</td>\n",
              "      <td>Dano Cool Cow Instant Filled Milk Powder Sache...</td>\n",
              "      <td>800.0</td>\n",
              "      <td>14.0</td>\n",
              "      <td>NaN</td>\n",
              "    </tr>\n",
              "  </tbody>\n",
              "</table>\n",
              "<p>265 rows × 9 columns</p>\n",
              "</div>"
            ],
            "text/plain": [
              "     order_id  user_id  order_item_id  ...    price  category_id frequency_count\n",
              "0         1.0        2            1.0  ...    300.0         10.0             NaN\n",
              "1         1.0        2            2.0  ...   1350.0          9.0             5.0\n",
              "2         1.0        2            3.0  ...    150.0          4.0             3.0\n",
              "3         1.0        2            4.0  ...    450.0         12.0             2.0\n",
              "4         1.0        2            5.0  ...   1050.0         13.0             4.0\n",
              "..        ...      ...            ...  ...      ...          ...             ...\n",
              "260      80.0      133          241.0  ...   3650.0          4.0             NaN\n",
              "261      34.0       34           99.0  ...   1200.0          9.0             NaN\n",
              "262      37.0       37          104.0  ...  13500.0         10.0             NaN\n",
              "263      38.0       38          105.0  ...   1150.0         10.0             NaN\n",
              "264      38.0       38          106.0  ...    800.0         14.0             NaN\n",
              "\n",
              "[265 rows x 9 columns]"
            ]
          },
          "metadata": {
            "tags": []
          },
          "execution_count": 27
        }
      ]
    },
    {
      "cell_type": "code",
      "metadata": {
        "id": "qUWsrLy3sHeK",
        "colab": {
          "base_uri": "https://localhost:8080/",
          "height": 390
        },
        "outputId": "9e82cf00-de93-4ea0-a1f7-80de9b4e4905"
      },
      "source": [
        "#grouping the user_id by product_id to count the frequency of each product selection of each user\n",
        "test = new_data.groupby(['user_id', 'product_id']).agg({'product_id':'count'}).rename(columns={'product_id': 'purchase_count'})\n",
        "\n",
        "test.head(10)"
      ],
      "execution_count": 40,
      "outputs": [
        {
          "output_type": "execute_result",
          "data": {
            "text/html": [
              "<div>\n",
              "<style scoped>\n",
              "    .dataframe tbody tr th:only-of-type {\n",
              "        vertical-align: middle;\n",
              "    }\n",
              "\n",
              "    .dataframe tbody tr th {\n",
              "        vertical-align: top;\n",
              "    }\n",
              "\n",
              "    .dataframe thead th {\n",
              "        text-align: right;\n",
              "    }\n",
              "</style>\n",
              "<table border=\"1\" class=\"dataframe\">\n",
              "  <thead>\n",
              "    <tr style=\"text-align: right;\">\n",
              "      <th></th>\n",
              "      <th></th>\n",
              "      <th>purchase_count</th>\n",
              "    </tr>\n",
              "    <tr>\n",
              "      <th>user_id</th>\n",
              "      <th>product_id</th>\n",
              "      <th></th>\n",
              "    </tr>\n",
              "  </thead>\n",
              "  <tbody>\n",
              "    <tr>\n",
              "      <th rowspan=\"3\" valign=\"top\">1</th>\n",
              "      <th>39.0</th>\n",
              "      <td>1</td>\n",
              "    </tr>\n",
              "    <tr>\n",
              "      <th>40.0</th>\n",
              "      <td>1</td>\n",
              "    </tr>\n",
              "    <tr>\n",
              "      <th>42.0</th>\n",
              "      <td>1</td>\n",
              "    </tr>\n",
              "    <tr>\n",
              "      <th rowspan=\"5\" valign=\"top\">2</th>\n",
              "      <th>5.0</th>\n",
              "      <td>1</td>\n",
              "    </tr>\n",
              "    <tr>\n",
              "      <th>10.0</th>\n",
              "      <td>1</td>\n",
              "    </tr>\n",
              "    <tr>\n",
              "      <th>12.0</th>\n",
              "      <td>1</td>\n",
              "    </tr>\n",
              "    <tr>\n",
              "      <th>18.0</th>\n",
              "      <td>1</td>\n",
              "    </tr>\n",
              "    <tr>\n",
              "      <th>36.0</th>\n",
              "      <td>1</td>\n",
              "    </tr>\n",
              "    <tr>\n",
              "      <th rowspan=\"2\" valign=\"top\">4</th>\n",
              "      <th>29.0</th>\n",
              "      <td>1</td>\n",
              "    </tr>\n",
              "    <tr>\n",
              "      <th>30.0</th>\n",
              "      <td>1</td>\n",
              "    </tr>\n",
              "  </tbody>\n",
              "</table>\n",
              "</div>"
            ],
            "text/plain": [
              "                    purchase_count\n",
              "user_id product_id                \n",
              "1       39.0                     1\n",
              "        40.0                     1\n",
              "        42.0                     1\n",
              "2       5.0                      1\n",
              "        10.0                     1\n",
              "        12.0                     1\n",
              "        18.0                     1\n",
              "        36.0                     1\n",
              "4       29.0                     1\n",
              "        30.0                     1"
            ]
          },
          "metadata": {
            "tags": []
          },
          "execution_count": 40
        }
      ]
    },
    {
      "cell_type": "code",
      "metadata": {
        "id": "dVp3XX1YIria",
        "colab": {
          "base_uri": "https://localhost:8080/",
          "height": 390
        },
        "outputId": "9b41c5a2-99aa-422e-ef8c-6d8f09ff5eb7"
      },
      "source": [
        "\n",
        "test.tail(10)"
      ],
      "execution_count": 41,
      "outputs": [
        {
          "output_type": "execute_result",
          "data": {
            "text/html": [
              "<div>\n",
              "<style scoped>\n",
              "    .dataframe tbody tr th:only-of-type {\n",
              "        vertical-align: middle;\n",
              "    }\n",
              "\n",
              "    .dataframe tbody tr th {\n",
              "        vertical-align: top;\n",
              "    }\n",
              "\n",
              "    .dataframe thead th {\n",
              "        text-align: right;\n",
              "    }\n",
              "</style>\n",
              "<table border=\"1\" class=\"dataframe\">\n",
              "  <thead>\n",
              "    <tr style=\"text-align: right;\">\n",
              "      <th></th>\n",
              "      <th></th>\n",
              "      <th>purchase_count</th>\n",
              "    </tr>\n",
              "    <tr>\n",
              "      <th>user_id</th>\n",
              "      <th>product_id</th>\n",
              "      <th></th>\n",
              "    </tr>\n",
              "  </thead>\n",
              "  <tbody>\n",
              "    <tr>\n",
              "      <th>138</th>\n",
              "      <th>12.0</th>\n",
              "      <td>1</td>\n",
              "    </tr>\n",
              "    <tr>\n",
              "      <th rowspan=\"2\" valign=\"top\">139</th>\n",
              "      <th>51.0</th>\n",
              "      <td>1</td>\n",
              "    </tr>\n",
              "    <tr>\n",
              "      <th>55.0</th>\n",
              "      <td>1</td>\n",
              "    </tr>\n",
              "    <tr>\n",
              "      <th rowspan=\"4\" valign=\"top\">140</th>\n",
              "      <th>15.0</th>\n",
              "      <td>1</td>\n",
              "    </tr>\n",
              "    <tr>\n",
              "      <th>18.0</th>\n",
              "      <td>1</td>\n",
              "    </tr>\n",
              "    <tr>\n",
              "      <th>32.0</th>\n",
              "      <td>1</td>\n",
              "    </tr>\n",
              "    <tr>\n",
              "      <th>47.0</th>\n",
              "      <td>1</td>\n",
              "    </tr>\n",
              "    <tr>\n",
              "      <th rowspan=\"3\" valign=\"top\">141</th>\n",
              "      <th>5.0</th>\n",
              "      <td>1</td>\n",
              "    </tr>\n",
              "    <tr>\n",
              "      <th>19.0</th>\n",
              "      <td>1</td>\n",
              "    </tr>\n",
              "    <tr>\n",
              "      <th>25.0</th>\n",
              "      <td>1</td>\n",
              "    </tr>\n",
              "  </tbody>\n",
              "</table>\n",
              "</div>"
            ],
            "text/plain": [
              "                    purchase_count\n",
              "user_id product_id                \n",
              "138     12.0                     1\n",
              "139     51.0                     1\n",
              "        55.0                     1\n",
              "140     15.0                     1\n",
              "        18.0                     1\n",
              "        32.0                     1\n",
              "        47.0                     1\n",
              "141     5.0                      1\n",
              "        19.0                     1\n",
              "        25.0                     1"
            ]
          },
          "metadata": {
            "tags": []
          },
          "execution_count": 41
        }
      ]
    },
    {
      "cell_type": "code",
      "metadata": {
        "id": "Qfay_qUxMbtE"
      },
      "source": [
        ""
      ],
      "execution_count": null,
      "outputs": []
    },
    {
      "cell_type": "code",
      "metadata": {
        "id": "0tw51vRfMhkq"
      },
      "source": [
        ""
      ],
      "execution_count": null,
      "outputs": []
    },
    {
      "cell_type": "code",
      "metadata": {
        "id": "t7z_suFjMw8h"
      },
      "source": [
        ""
      ],
      "execution_count": null,
      "outputs": []
    },
    {
      "cell_type": "code",
      "metadata": {
        "id": "p5sn-KOKM_-V"
      },
      "source": [
        ""
      ],
      "execution_count": null,
      "outputs": []
    }
  ]
}